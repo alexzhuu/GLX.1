{
 "cells": [
  {
   "cell_type": "code",
   "execution_count": 6,
   "id": "1a0102f2",
   "metadata": {},
   "outputs": [],
   "source": [
    "import os \n",
    "import cv2\n",
    "import pandas as pd\n",
    "import numpy as np\n",
    "\n",
    "%matplotlib inline\n",
    "import matplotlib.pyplot as plt\n",
    "import matplotlib.image as mpimg\n",
    "from ipywidgets.widgets import * \n",
    "import ipywidgets as widgets"
   ]
  },
  {
   "cell_type": "code",
   "execution_count": null,
   "id": "33cd701a",
   "metadata": {},
   "outputs": [],
   "source": [
    "TYPES = ['ACRIMA', 'ORIGA']\n",
    "dir_path = '/Users/alexzhu/desktop/Glaucoma'\n",
    "def print_img(x):\n",
    "    img_folder_path = os.path.join(dir_path, x)\n",
    "    for new_img in os.listdir(img_folder_path):\n",
    "        new_img = cv2.imread(os.path.join(img_folder_path, new_img))\n",
    "        plt.imshow(new_img)\n",
    "        plt.show()\n",
    "        break\n",
    "    break\n",
    "\n",
    "print_img(TYPES[0])\n",
    "print_img(TYPES[1])"
   ]
  },
  {
   "cell_type": "code",
   "execution_count": null,
   "id": "005900e0",
   "metadata": {},
   "outputs": [],
   "source": [
    "df = pd.read_csv('glaucoma.csv')\n",
    "df.head()"
   ]
  },
  {
   "cell_type": "code",
   "execution_count": null,
   "id": "9180c452",
   "metadata": {},
   "outputs": [],
   "source": [
    "df.info()\n",
    "df.describe()"
   ]
  }
 ],
 "metadata": {
  "kernelspec": {
   "display_name": "Python 3 (ipykernel)",
   "language": "python",
   "name": "python3"
  },
  "language_info": {
   "codemirror_mode": {
    "name": "ipython",
    "version": 3
   },
   "file_extension": ".py",
   "mimetype": "text/x-python",
   "name": "python",
   "nbconvert_exporter": "python",
   "pygments_lexer": "ipython3",
   "version": "3.7.13"
  }
 },
 "nbformat": 4,
 "nbformat_minor": 5
}
